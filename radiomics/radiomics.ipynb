{
 "cells": [
  {
   "cell_type": "code",
   "execution_count": null,
   "metadata": {},
   "outputs": [],
   "source": [
    "!pip install numpy pyradiomics slicerio"
   ]
  },
  {
   "cell_type": "code",
   "execution_count": null,
   "metadata": {},
   "outputs": [],
   "source": [
    "from __future__ import print_function\n",
    "import six\n",
    "import os\n",
    "\n",
    "import radiomics\n",
    "from radiomics import featureextractor\n",
    "\n",
    "import slicerio\n",
    "import json\n"
   ]
  },
  {
   "cell_type": "code",
   "execution_count": null,
   "metadata": {},
   "outputs": [],
   "source": [
    "imagePath = \"../201_sag_3d_mprage.nrrd\"\n",
    "maskPath = \"../Segmentation.nrrd\"\n",
    "\n",
    "# Additonally, store the location of the example parameter file, stored in \\pyradiomics\\examples/exampleSettings\n",
    "paramPath = \"Params.yaml\"\n",
    "print('Parameter file, absolute path:', os.path.abspath(paramPath))"
   ]
  },
  {
   "cell_type": "code",
   "execution_count": null,
   "metadata": {},
   "outputs": [],
   "source": [
    "# Instantiate the extractor\n",
    "extractor = featureextractor.RadiomicsFeatureExtractor(paramPath)\n",
    "\n",
    "print('Extraction parameters:\\n\\t', extractor.settings)\n",
    "print('Enabled filters:\\n\\t', extractor.enabledImagetypes)\n",
    "print('Enabled features:\\n\\t', extractor.enabledFeatures)\n",
    "\n",
    "extractor.enabledFeatures\n",
    "extractor.enableAllFeatures()\n",
    "# result = extractor.execute(imagePath, maskPath)\n",
    "\n",
    "# print('Result type:', type(result))  # result is returned in a Python ordered dictionary)\n",
    "# print('')\n",
    "# print('Calculated features')\n",
    "# for key, value in six.iteritems(result):\n",
    "#     print('\\t', key, ':', value)\n"
   ]
  },
  {
   "cell_type": "code",
   "execution_count": null,
   "metadata": {},
   "outputs": [],
   "source": [
    "extractor.enableAllImageTypes()\n",
    "extractor.enabledImagetypes"
   ]
  },
  {
   "cell_type": "code",
   "execution_count": null,
   "metadata": {},
   "outputs": [],
   "source": [
    "segmentation_info = slicerio.read_segmentation_info(maskPath)\n",
    "number_of_segments = len(segmentation_info['segments'])\n",
    "number_of_segments\n",
    "segmentation_info['segments']"
   ]
  },
  {
   "cell_type": "code",
   "execution_count": null,
   "metadata": {},
   "outputs": [],
   "source": [
    "import pandas as pd\n",
    "import numpy as np\n",
    "import matplotlib.pyplot as plt\n",
    "import os\n",
    "import seaborn as sns"
   ]
  },
  {
   "cell_type": "code",
   "execution_count": null,
   "metadata": {},
   "outputs": [],
   "source": [
    "# Read features.csv\n",
    "\n",
    "df = pd.read_csv(\"features.csv\")\n",
    "features_list = ['shape', 'firstorder', 'glcm', 'glrlm', 'glszm', 'gldm', 'ngtdm']\n",
    "image_types = ['original', 'exponential', 'gradient', 'lbp-2D', 'lbp-3D', 'logarithm', 'square', 'squareroot', 'wavelet']\n",
    "labels_list = [1,2,3]\n",
    "\n",
    "def plot_graph(df_label_features, dir_name, label):\n",
    "    # draw a boxplot for each feature in features_for_cistern on one chart\n",
    "    for column in df_label_features.columns:\n",
    "        if column != 'image':\n",
    "            print(column)\n",
    "            fig = plt.figure(figsize=(5,5))\n",
    "            # df_label_features.boxplot(column=column)\n",
    "            # y = df_label_features[column]\n",
    "            # x = np.random.randint(0,5, size=len(y))\n",
    "            # plt.plot(x, y, 'r.', alpha=0.3)\n",
    "            # plt.title('BoxPlot of {} for {}'.format(column,label))\n",
    "\n",
    "            sns.set(style=\"whitegrid\")\n",
    "            ax = sns.boxplot(y=column, data=df_label_features, showfliers = False, palette=\"Set3\")\n",
    "            ax = sns.stripplot(y=column, data=df_label_features, color=\".25\")\n",
    "            \n",
    "            # remove y-axis title\n",
    "            ax.set(ylabel='')\n",
    "            plt.title('BoxPlot of {} for {}'.format(column,label))\n",
    "            plt.savefig(dir_name + '/boxplot_{}.png'.format(column),  bbox_inches = 'tight')\n",
    "            plt.close(fig)\n",
    "\n",
    "# Extract features\n",
    "\n",
    "for label in labels_list:\n",
    "    print(label)\n",
    "    df_label = df[(df['label'] == label)]\n",
    "    for type in image_types:\n",
    "        print(type)\n",
    "        for feature in features_list:\n",
    "            print(feature)\n",
    "            df_label_features = df_label.filter(regex=type + \"_\" +feature)\n",
    "            dir_name = 'label_' + str(label) + '/' + type + '/' + feature\n",
    "            os.makedirs(dir_name, exist_ok=True)\n",
    "            plot_graph(df_label_features, dir_name, label)"
   ]
  },
  {
   "cell_type": "code",
   "execution_count": null,
   "metadata": {},
   "outputs": [],
   "source": [
    "# get value of image column for index in features_for_cistern\n",
    "df = pd.read_csv(\"features.csv\")\n",
    "feature=\"firstorder\"\n",
    "df_label = df[(df['label'] == 3)]\n",
    "\n",
    "df_label_features = df_label.filter(regex= \"original_\" +feature)\n",
    "df_label_features['image'] = df.iloc[df_label_features.index]['image']\n",
    "df_label_features.to_csv(\"features_for_cc.csv\")"
   ]
  }
 ],
 "metadata": {
  "kernelspec": {
   "display_name": "Python 3",
   "language": "python",
   "name": "python3"
  },
  "language_info": {
   "codemirror_mode": {
    "name": "ipython",
    "version": 3
   },
   "file_extension": ".py",
   "mimetype": "text/x-python",
   "name": "python",
   "nbconvert_exporter": "python",
   "pygments_lexer": "ipython3",
   "version": "3.10.11"
  },
  "orig_nbformat": 4
 },
 "nbformat": 4,
 "nbformat_minor": 2
}
